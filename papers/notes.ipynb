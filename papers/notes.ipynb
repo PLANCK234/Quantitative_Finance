{
 "cells": [
  {
   "cell_type": "markdown",
   "id": "7cebe3fe",
   "metadata": {},
   "source": [
    "Mittal 等［33］[33]\n",
    "将 Twitter 文本情绪分为 4 类\n",
    "（Calm，Happy，Alert，Kind），发 现 Calm 和 Happy 这\n",
    "两种情绪能更好地预测股指走势；王夫乐等［34］\n",
    "将微\n",
    "博文本情绪分为悲伤、恐惧、喜悦、惊奇和愤怒。文\n",
    "本情感分析总体框架包括文本获取和预处理、文本\n",
    "特征提取和表示、情感分析方法应用，以及情感指标\n",
    "构建[34]\n",
    "\n",
    "基于机器学习的方法和情感词典-机器学习\n",
    "组合法[40-42]\n",
    "\n",
    "\n",
    "\n"
   ]
  }
 ],
 "metadata": {
  "language_info": {
   "name": "python"
  }
 },
 "nbformat": 4,
 "nbformat_minor": 5
}
