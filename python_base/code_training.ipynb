{
 "cells": [
  {
   "cell_type": "code",
   "execution_count": null,
   "id": "a45dfec4",
   "metadata": {},
   "outputs": [
    {
     "name": "stdout",
     "output_type": "stream",
     "text": [
      "John Doe\n",
      "john doe\n"
     ]
    }
   ],
   "source": [
    "name = \"John doe\"\n",
    "print(name.title())\n",
    "print(name.lower())"
   ]
  },
  {
   "cell_type": "code",
   "execution_count": 9,
   "id": "313e3174",
   "metadata": {},
   "outputs": [
    {
     "name": "stdout",
     "output_type": "stream",
     "text": [
      "\tpython\n",
      "python\tsadf\n",
      "languages:\n",
      "\tpython\n",
      "\tjava\n",
      "\tmatlab\n",
      "\tC++\n",
      "\tC\n"
     ]
    }
   ],
   "source": [
    "print(\"\\tpython\")\n",
    "print(\"python\\tsadf\")\n",
    "print(\"languages:\\n\\tpython\\n\\tjava\\n\\tmatlab\\n\\tC++\\n\\tC\")"
   ]
  },
  {
   "cell_type": "code",
   "execution_count": 15,
   "id": "946b1fae",
   "metadata": {},
   "outputs": [
    {
     "name": "stdout",
     "output_type": "stream",
     "text": [
      "blue  1\n",
      "    blue1\n",
      "blue1\n",
      "I am 20-years-old right now.\n"
     ]
    }
   ],
   "source": [
    "favorite_color = \"    blue  \"\n",
    "print(favorite_color.lstrip()+\"1\")\n",
    "print(favorite_color.rstrip()+\"1\")\n",
    "print(favorite_color.strip()+\"1\")\n",
    "age =20\n",
    "print(\"I am \"+str(age)+\"-years-old right now.\")"
   ]
  },
  {
   "cell_type": "code",
   "execution_count": 16,
   "id": "21cd5543",
   "metadata": {},
   "outputs": [
    {
     "name": "stdout",
     "output_type": "stream",
     "text": [
      "The Zen of Python, by Tim Peters\n",
      "\n",
      "Beautiful is better than ugly.\n",
      "Explicit is better than implicit.\n",
      "Simple is better than complex.\n",
      "Complex is better than complicated.\n",
      "Flat is better than nested.\n",
      "Sparse is better than dense.\n",
      "Readability counts.\n",
      "Special cases aren't special enough to break the rules.\n",
      "Although practicality beats purity.\n",
      "Errors should never pass silently.\n",
      "Unless explicitly silenced.\n",
      "In the face of ambiguity, refuse the temptation to guess.\n",
      "There should be one-- and preferably only one --obvious way to do it.\n",
      "Although that way may not be obvious at first unless you're Dutch.\n",
      "Now is better than never.\n",
      "Although never is often better than *right* now.\n",
      "If the implementation is hard to explain, it's a bad idea.\n",
      "If the implementation is easy to explain, it may be a good idea.\n",
      "Namespaces are one honking great idea -- let's do more of those!\n",
      "<module 'this' from 'd:\\\\APP\\\\Data\\\\ANACONDA\\\\Lib\\\\this.py'>\n"
     ]
    }
   ],
   "source": [
    "import this\n",
    "print(this)"
   ]
  },
  {
   "cell_type": "code",
   "execution_count": null,
   "id": "16e1474c",
   "metadata": {},
   "outputs": [
    {
     "data": {
      "text/plain": [
       "[2, 3, 4, 5]"
      ]
     },
     "execution_count": 23,
     "metadata": {},
     "output_type": "execute_result"
    }
   ],
   "source": [
    "'''\n",
    "1. pop() to delete the last element of a list\n",
    "2. sort() to sort a list in ascending order permanently\n",
    "3. pop(2) to delete the element at index 2 of a list\n",
    "4. insert()\n",
    "'''\n",
    "\n",
    "def my_insert_function(lst, index, value):\n",
    "    \"\"\"Insert `value` into list `lst` at position `index`.\"\"\"\n",
    "    n = len(lst)\n",
    "    lst.append(0)\n",
    "    for i in range(index + 1, n + 1):\n",
    "        lst[n] = lst[i]\n",
    "        lst[i] = lst[index]\n",
    "        lst[index] = lst[n]\n",
    "    lst[index] = value\n",
    "    return lst\n",
    "\n",
    "def my_delete_function(lst, index):\n",
    "    \"\"\"Delete the element at `index` from list `lst`.\"\"\"\n",
    "    n = len(lst)\n",
    "    for i in range(index + 1, n):\n",
    "        lst[i-1] = lst[i]\n",
    "    lst.pop()\n",
    "    return lst  \n",
    "\n",
    "def my_insert_function2(lst, index, value):\n",
    "    \"\"\"Insert `value` into list `lst` at position `index`.\"\"\"\n",
    "    n = len(lst)\n",
    "    lst.append(0)\n",
    "    for i in range(n, index, -1):  # 从后往前挪动\n",
    "        lst[i] = lst[i - 1]\n",
    "    lst[index] = value\n",
    "    return lst\n",
    "\n",
    "# range函数从后往前挪动的方法。range(n, index, -1)\n",
    "# list 不用，用lst\n",
    "        "
   ]
  },
  {
   "cell_type": "code",
   "execution_count": null,
   "id": "84b4c2d9",
   "metadata": {},
   "outputs": [],
   "source": [
    "# del a\n",
    "'''\n",
    "当一个变量被删除后，若其指向的对象没有被使用，那么这个时候就会被python的垃圾回\n",
    "收器自动回收，也就意味着我们完成一个优质代码的编写过程中，如果有些变量没有被用\n",
    "了，那么我们考虑del，以便释放内存。\n",
    "'''"
   ]
  },
  {
   "cell_type": "code",
   "execution_count": 2,
   "id": "88187f89",
   "metadata": {},
   "outputs": [
    {
     "name": "stdout",
     "output_type": "stream",
     "text": [
      "140703748811000\n",
      "140703748811000\n",
      "140703748811000\n",
      "True\n",
      "140703748807160\n"
     ]
    }
   ],
   "source": [
    "x = y = 123\n",
    "print(id(123))\n",
    "print(id(x))\n",
    "print(id(y))\n",
    "print(x is y)  # True\n",
    "print(id(3))"
   ]
  },
  {
   "cell_type": "code",
   "execution_count": null,
   "id": "c61c93f5",
   "metadata": {},
   "outputs": [
    {
     "data": {
      "text/plain": [
       "(3, 1)"
      ]
     },
     "execution_count": 3,
     "metadata": {},
     "output_type": "execute_result"
    }
   ],
   "source": [
    "'''\n",
    "//整除\n",
    "%取余\n",
    "**幂运算\n",
    "'''\n",
    "divmod(10,3)\n",
    "def my_divmod(a,b):\n",
    "    return (a//b,a%b) # tuplie[int, int]"
   ]
  },
  {
   "cell_type": "code",
   "execution_count": 10,
   "id": "a9bfd872",
   "metadata": {},
   "outputs": [
    {
     "name": "stdout",
     "output_type": "stream",
     "text": [
      "10\n",
      "10\n",
      "10\n",
      "10\n",
      "3.14\n"
     ]
    },
    {
     "data": {
      "text/plain": [
       "3.14"
      ]
     },
     "execution_count": 10,
     "metadata": {},
     "output_type": "execute_result"
    }
   ],
   "source": [
    "'''\n",
    "0b\n",
    "0O\n",
    "0x\n",
    "'''\n",
    "print(0b1010)\n",
    "print(0o12)\n",
    "print(0xA)\n",
    "print(0xa)\n",
    "print(314E-2)\n",
    "round(3.14159,2)"
   ]
  },
  {
   "cell_type": "code",
   "execution_count": 143,
   "id": "b276a682",
   "metadata": {},
   "outputs": [
    {
     "name": "stdout",
     "output_type": "stream",
     "text": [
      "3.14\n",
      "3.14\n",
      "False\n",
      "True\n",
      "True\n",
      "140703747741632\n",
      "140703747741632\n",
      "2211189133296\n",
      "2211189133296\n",
      "False\n",
      "2211189140752\n",
      "False\n",
      "2211190883408\n",
      "2211189140752\n",
      "2211189140944\n",
      "2211189140944\n"
     ]
    }
   ],
   "source": [
    "def my_round(number, ndigits):\n",
    "    a = number * 10 ** ndigits\n",
    "    return round(a) / 10 ** ndigits\n",
    "\n",
    "x=print(my_round(3.14159,2))\n",
    "y=print(round(3.14159,2))\n",
    "\n",
    "print(my_round(3.14159,2) is round(3.14159,2))\n",
    "print(my_round(3.14159,2) == round(3.14159,2))\n",
    "print(x is y)\n",
    "\n",
    "print(id(x))\n",
    "print(id(y))\n",
    "print(id(my_round(3.14159,2)))\n",
    "print(id(round(3.14159,2))) # 不是同一个对象\n",
    "\n",
    "print(my_round(3.14159,2) is round(314.159,2)/100)\n",
    "print(id(round(314.159,2)/100))\n",
    "\n",
    "# is 比较的是 是否为同一个对象，在这个没有进行赋值的运算里面，print完即丢弃\n",
    "\n",
    "x = my_round(3.14159,2)\n",
    "y = round(3.14159,2)\n",
    "print(x is y) # False\n",
    "print(id(x))\n",
    "print(id(y))\n",
    "print(id(my_round(3.14159,2)))\n",
    "print(id(round(3.14159,2))) # 不是同一个对象"
   ]
  },
  {
   "cell_type": "code",
   "execution_count": null,
   "id": "648fccde",
   "metadata": {},
   "outputs": [
    {
     "data": {
      "text/plain": [
       "0.30000000000000004"
      ]
     },
     "execution_count": 1,
     "metadata": {},
     "output_type": "execute_result"
    }
   ],
   "source": [
    "0.1+0.2 # 0.3然后15个0然后4"
   ]
  },
  {
   "cell_type": "code",
   "execution_count": null,
   "id": "dfcc2a7a",
   "metadata": {},
   "outputs": [
    {
     "name": "stdout",
     "output_type": "stream",
     "text": [
      "I love Analysis!\n",
      "I love Linear Algebra!\n",
      "I love Probability Theory!\n",
      "I love Multivariables Calculus!\n",
      "I love Ordinary Differential Equations!\n",
      "I love Complex Analysis!\n",
      "I love Functional Analysis!\n",
      "I love Pde!\n"
     ]
    }
   ],
   "source": [
    "mathematics = ['analysis', 'linear algebra', 'probability theory',\n",
    "               'multivariables calculus', 'ordinary differential equations'\n",
    "               , 'complex analysis', 'functional analysis', 'PDE']\n",
    "\n",
    "for math_discipline in mathematics:\n",
    "    print(f\"I love {math_discipline.title()}!\") # f\"()\"\n",
    "\n",
    "# math_discipline 这个变量以此储存这个mathmatics列表的每一个元素的地址，然后print\n"
   ]
  },
  {
   "cell_type": "code",
   "execution_count": null,
   "id": "dc269c6f",
   "metadata": {},
   "outputs": [],
   "source": [
    "range(1,6) # python 打印完5会清内存，当到6时候，会判断终止打印，专门会有\n",
    "           # 一个用来 “鉴别” 制止的点\n",
    "\n",
    "numbers = list(range(1,6))\n",
    "even_numbers = [num for num in numbers if num % 2 == 0]\n",
    "\n",
    "squares = []\n",
    "for value in range(1,11):\n",
    "    suqare = value ** 2\n",
    "    squares.append(suqare) ## squares.append(value ** 2) 更简洁\n",
    "\n"
   ]
  },
  {
   "cell_type": "code",
   "execution_count": null,
   "id": "0d11ea0b",
   "metadata": {},
   "outputs": [
    {
     "name": "stdout",
     "output_type": "stream",
     "text": [
      "[1, 2, 3, 4, 5, 6, 7, 8, 9, 10, 11, 12, 13, 14, 15, 16, 17, 18, 19, 20]\n",
      "range(1, 21)\n"
     ]
    }
   ],
   "source": [
    "print(list(range(1,21)))\n",
    "print(range(1,21))"
   ]
  },
  {
   "cell_type": "code",
   "execution_count": null,
   "id": "b8a6696d",
   "metadata": {},
   "outputs": [
    {
     "name": "stdout",
     "output_type": "stream",
     "text": [
      "打印1000000个数字花费了0.024530649185180664秒\n",
      "求和花费了0.041100263595581055秒, 结果是500000500000\n"
     ]
    }
   ],
   "source": [
    "import time\n",
    "time_ = time.time()\n",
    "lstt = list(range(1, 1000001))\n",
    "time_end = time.time()\n",
    "print(f\"打印1000000个数字花费了{time_end - time_}秒\")\n",
    "sum_ = sum(lstt)\n",
    "print(f\"求和花费了{time.time() - time_end}秒, 结果是{sum_}\")"
   ]
  },
  {
   "cell_type": "code",
   "execution_count": null,
   "id": "957d025e",
   "metadata": {},
   "outputs": [
    {
     "name": "stdout",
     "output_type": "stream",
     "text": [
      "list[range(1, 1000001)]\n"
     ]
    }
   ],
   "source": [
    "lsttt = list[range(1, 1000001)]\n",
    "print(lsttt)"
   ]
  },
  {
   "cell_type": "code",
   "execution_count": null,
   "id": "72a6f5cf",
   "metadata": {},
   "outputs": [
    {
     "name": "stdout",
     "output_type": "stream",
     "text": [
      "[1, 'hi', range(0, 10), <class 'list'>, <built-in function sum>, (1, 2)]\n"
     ]
    }
   ],
   "source": [
    "lst = [1, \"hi\", range(10), list, sum, (1, 2)]\n",
    "print(lst)"
   ]
  },
  {
   "cell_type": "code",
   "execution_count": 9,
   "id": "c1f8ead8",
   "metadata": {},
   "outputs": [
    {
     "name": "stdout",
     "output_type": "stream",
     "text": [
      "[1, 3, 5, 7, 9, 11, 13, 15, 17, 19, 21]\n",
      "range(1, 22, 2)\n",
      "[1, 3, 5, 7, 9, 11, 13, 15, 17, 19, 21]\n"
     ]
    }
   ],
   "source": [
    "nums = list(range(1,22,2))\n",
    "muns = range(1,22,2)\n",
    "\n",
    "print(nums)\n",
    "print(muns)\n",
    "print(list(muns))"
   ]
  },
  {
   "cell_type": "code",
   "execution_count": 16,
   "id": "5b5bc8cc",
   "metadata": {},
   "outputs": [
    {
     "name": "stdout",
     "output_type": "stream",
     "text": [
      "1 3 5 7 9 11 13 15 17 19 21 \n",
      "1 3 5 7 9 11 13 15 17 19 21 "
     ]
    }
   ],
   "source": [
    "for m in muns:\n",
    "    print(m, end = ' ') \n",
    "print('')\n",
    "\n",
    "for m in nums:\n",
    "    print(m, end = ' ')"
   ]
  },
  {
   "cell_type": "code",
   "execution_count": 18,
   "id": "66ba4e05",
   "metadata": {},
   "outputs": [
    {
     "name": "stdout",
     "output_type": "stream",
     "text": [
      "[3, 6, 9, 12, 15, 18, 21, 24, 27, 30]\n",
      "[1, 8, 27, 64, 125, 216, 343, 512, 729, 1000]\n"
     ]
    }
   ],
   "source": [
    "mums = [m for m in range(3,31) if m % 3 == 0]\n",
    "print(mums)\n",
    "muns = [m ** 3 for m in range(1,11)]\n",
    "print(muns)"
   ]
  }
 ],
 "metadata": {
  "kernelspec": {
   "display_name": "base",
   "language": "python",
   "name": "python3"
  },
  "language_info": {
   "codemirror_mode": {
    "name": "ipython",
    "version": 3
   },
   "file_extension": ".py",
   "mimetype": "text/x-python",
   "name": "python",
   "nbconvert_exporter": "python",
   "pygments_lexer": "ipython3",
   "version": "3.12.3"
  }
 },
 "nbformat": 4,
 "nbformat_minor": 5
}
